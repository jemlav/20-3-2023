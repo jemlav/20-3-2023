{
 "cells": [
  {
   "cell_type": "code",
   "execution_count": 1,
   "id": "5c72cbb0-6c6d-4462-ac7c-eb065bcaaca4",
   "metadata": {},
   "outputs": [],
   "source": [
    "%load_ext autoreload\n",
    "%autoreload 2"
   ]
  },
  {
   "cell_type": "code",
   "execution_count": 2,
   "id": "8b131895-182a-4f78-a340-20785cf9eb58",
   "metadata": {},
   "outputs": [],
   "source": [
    "from NHACK.utils import load_pkg_yaml"
   ]
  },
  {
   "cell_type": "code",
   "execution_count": 3,
   "id": "1b296bda-8ca8-4b9f-928a-138d5cf54b21",
   "metadata": {},
   "outputs": [],
   "source": [
    "my_congif=load_pkg_yaml()"
   ]
  },
  {
   "cell_type": "code",
   "execution_count": null,
   "id": "2419c336-6ea5-46c1-a504-0e11cf008070",
   "metadata": {},
   "outputs": [],
   "source": []
  },
  {
   "cell_type": "code",
   "execution_count": null,
   "id": "9f8ba269-4048-4851-88c0-29ab0994082a",
   "metadata": {},
   "outputs": [],
   "source": []
  },
  {
   "cell_type": "code",
   "execution_count": 4,
   "id": "58155151-46d5-4da8-bb27-704630c0aa3d",
   "metadata": {},
   "outputs": [
    {
     "data": {
      "text/plain": [
       "{'paths': {'atlaspath': 'Documents/atlases/'},\n",
       " 'preprocessing': {'zscore_data': True,\n",
       "  'filter_data': True,\n",
       "  'filter_params': {'window_length': 201, 'polyorder': 3}},\n",
       " 'analysis': {'subjects_to_analyse': ['01', '02', '03', '04'],\n",
       "  'ROIS': ['V1', 'V2', 'V3'],\n",
       "  'njobs': 60,\n",
       "  'backend_engine': 'torch'},\n",
       " 'plotting': {'figsize_x': 6, 'figsize_y': 4, 'dpi': 300},\n",
       " 'p_paths': {'data_dir': 'c:\\\\users\\\\ax926968\\\\my_nhack_repo\\\\data',\n",
       "  'docs_dir': 'c:\\\\users\\\\ax926968\\\\my_nhack_repo\\\\docs',\n",
       "  'results_dir': 'c:\\\\users\\\\ax926968\\\\my_nhack_repo\\\\results',\n",
       "  'scripts_dir': 'c:\\\\users\\\\ax926968\\\\my_nhack_repo\\\\scripts',\n",
       "  'tests_dir': 'c:\\\\users\\\\ax926968\\\\my_nhack_repo\\\\tests'}}"
      ]
     },
     "execution_count": 4,
     "metadata": {},
     "output_type": "execute_result"
    }
   ],
   "source": [
    "my_congif"
   ]
  },
  {
   "cell_type": "code",
   "execution_count": 5,
   "id": "4b991f77-6454-4f3a-a469-606367d08e9a",
   "metadata": {},
   "outputs": [],
   "source": [
    "from NHACK.analysis import plus_one"
   ]
  },
  {
   "cell_type": "code",
   "execution_count": 7,
   "id": "bf6563c8-96a7-48fb-ae7a-86779b438766",
   "metadata": {},
   "outputs": [],
   "source": [
    "from NHACK.analysis import plus_one"
   ]
  },
  {
   "cell_type": "code",
   "execution_count": 8,
   "id": "46e91110-1e32-4ffa-9230-26b7273d9643",
   "metadata": {},
   "outputs": [
    {
     "name": "stdout",
     "output_type": "stream",
     "text": [
      "2\n"
     ]
    },
    {
     "data": {
      "text/plain": [
       "2"
      ]
     },
     "execution_count": 8,
     "metadata": {},
     "output_type": "execute_result"
    }
   ],
   "source": [
    "plus_one(1)"
   ]
  },
  {
   "cell_type": "code",
   "execution_count": null,
   "id": "264d2bbd-47e3-42cf-b671-f983fdf420b4",
   "metadata": {},
   "outputs": [],
   "source": []
  }
 ],
 "metadata": {
  "kernelspec": {
   "display_name": "Python 3 (ipykernel)",
   "language": "python",
   "name": "python3"
  },
  "language_info": {
   "codemirror_mode": {
    "name": "ipython",
    "version": 3
   },
   "file_extension": ".py",
   "mimetype": "text/x-python",
   "name": "python",
   "nbconvert_exporter": "python",
   "pygments_lexer": "ipython3",
   "version": "3.9.15"
  }
 },
 "nbformat": 4,
 "nbformat_minor": 5
}
